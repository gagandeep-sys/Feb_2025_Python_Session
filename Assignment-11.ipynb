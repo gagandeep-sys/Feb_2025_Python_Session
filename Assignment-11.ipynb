{
 "cells": [
  {
   "cell_type": "code",
   "execution_count": 1,
   "id": "3f2584d0-30f2-4e8d-b547-eee06c44b5df",
   "metadata": {},
   "outputs": [
    {
     "name": "stdout",
     "output_type": "stream",
     "text": [
      "['Hyd', 'Chennai', 'Mumbai', 'Pune']\n"
     ]
    }
   ],
   "source": [
    "#Q4)  l1=['hyd','chennai','mumbai','pune']\n",
    "#     ans=['Hyd','Chennai','Mumabi','Pune']\n",
    "\n",
    "l1=['hyd','chennai','mumbai','pune']\n",
    "l2=[]\n",
    "for i in l1:\n",
    "    l2.append(i.capitalize())\n",
    "\n",
    "print(l2)"
   ]
  },
  {
   "cell_type": "code",
   "execution_count": null,
   "id": "ee5d6924",
   "metadata": {},
   "outputs": [],
   "source": [
    "#modification of a code is done\n"
   ]
  },
  {
   "cell_type": "code",
   "execution_count": 3,
   "id": "8bd8c79a-f15a-4431-9732-23710973a0dc",
   "metadata": {},
   "outputs": [
    {
     "name": "stdout",
     "output_type": "stream",
     "text": [
      "['HYD', 'CHENNAI', 'MUMBAI', 'PUNE']\n"
     ]
    }
   ],
   "source": [
    "#Q5)  l1=['hyd','chennai','mumbai','pune']\n",
    "#     ans=['HYD','CHENNAI','MUMBAI','PUNE']\n",
    "\n",
    "l1=['hyd','chennai','mumbai','pune']\n",
    "l2=[]\n",
    "for i in l1:\n",
    "    l2.append(i.upper())\n",
    "\n",
    "print(l2)"
   ]
  },
  {
   "cell_type": "code",
   "execution_count": 5,
   "id": "0cb47187-8ecf-443b-a164-e465cdae8bdb",
   "metadata": {},
   "outputs": [
    {
     "name": "stdout",
     "output_type": "stream",
     "text": [
      "hyd\n",
      "pune\n",
      "['hyd', 'pune']\n"
     ]
    }
   ],
   "source": [
    "#Q6)  l1=['hyd','chen#ai','mu#bai','pune']\n",
    "#     ans=['hyd','pune']\n",
    "\n",
    "l1=['hyd','chen#ai','mu#bai','pune']\n",
    "l2=[]\n",
    "s='#'\n",
    "for i in l1:\n",
    "    if '#' not in i:\n",
    "        print(i)\n",
    "        l2.append(i)\n",
    "\n",
    "print(l2)\n"
   ]
  },
  {
   "cell_type": "code",
   "execution_count": 13,
   "id": "0cfe50fd-5755-47c5-a488-40b8e35d60da",
   "metadata": {},
   "outputs": [
    {
     "name": "stdout",
     "output_type": "stream",
     "text": [
      "chen#ai\n",
      "mu#bai\n",
      "['chen#ai', 'mu#bai']\n"
     ]
    }
   ],
   "source": [
    "#Q6)  l1=['hyd','chen#ai','mu#bai','pune']\n",
    "#     ans=['chen#ai','mu#bai\n",
    "l1=['hyd','chen#ai','mu#bai','pune']\n",
    "l2=[]\n",
    "s='#'\n",
    "for i in l1:\n",
    "    if '#' in i:\n",
    "        print(i)\n",
    "        l2.append(i)\n",
    "\n",
    "print(l2)\n"
   ]
  },
  {
   "cell_type": "code",
   "execution_count": null,
   "id": "05c71add-240e-4648-a670-3435d3ff8569",
   "metadata": {},
   "outputs": [],
   "source": [
    "#Q8) str1= 'hello hai how are you'\n",
    "#    ans=['Hello','Hai','How','Are','You']\n",
    "\n",
    "str1= 'hello hai how are you'\n",
    "s=str1.split()\n",
    "l=[]\n",
    "for i in s:\n",
    "    print(i)\n",
    "    l.append(i.capitalize())\n",
    "print(l)"
   ]
  },
  {
   "cell_type": "code",
   "execution_count": null,
   "id": "ec055579-3d4d-4ccc-b393-4e4da1aadfaa",
   "metadata": {},
   "outputs": [],
   "source": [
    "#Q9) str1='virat.kohli@rcb.com; rohit.sharma@mi.com; dhoni.ms@csk.com'\n",
    "#    fname=['virat','rohit','dhoni']\n",
    "#    sname=['kohli','sharma','ms']\n",
    "#    cname=['rcb','mi','csk']\n",
    "\n",
    "str1='virat.kohli@rcb.com; rohit.sharma@mi.com; dhoni.ms@csk.com'\n",
    "s=str1.split()\n",
    "f_name,l_name, c_name=[],[],[]\n",
    "for i in s:\n",
    "    first_dot=i.find('.')\n",
    "    second_dot=i.find('.',first_dot+1)\n",
    "    at_index=i.find('@')\n",
    "    f_name.append(i[:first_dot])\n",
    "    l_name.append(i[first_dot+1:at_index])\n",
    "    c_name.append(i[at_index+1:second_dot])\n",
    "    \n",
    "    \n",
    "\n",
    "\n",
    "print(f_name,l_name,c_name)"
   ]
  },
  {
   "cell_type": "code",
   "execution_count": 7,
   "id": "abfc020a-8157-4f28-b6c1-6f7d860e46fd",
   "metadata": {},
   "outputs": [
    {
     "name": "stdout",
     "output_type": "stream",
     "text": [
      "[54, 52, 31, 76, 10, 28]\n",
      "[54, 52, 31, 76, 10, 28]\n",
      "the maximum value from the list is 76\n",
      "[54, 52, 31, 76, 10, 28]\n",
      "the minimum value from the list is 10\n"
     ]
    }
   ],
   "source": [
    "# q10) get the 7 random numbers in a list between 1 to 100\n",
    "#      find the min and max value with using min and max function\n",
    "import random\n",
    "\n",
    "l=[]\n",
    "\n",
    "\n",
    "for i in range(1,7):\n",
    "    num=random.randint(1,100)\n",
    "    l.append(num)\n",
    "\n",
    "print(l)\n",
    "max=l[0]\n",
    "print(l)\n",
    "for i in l[1:]:\n",
    "    if i>max:\n",
    "        max=i\n",
    "\n",
    "print(f\"the maximum value from the list is {max}\")\n",
    "min=l[0]\n",
    "for i in l[1:]:\n",
    "    if i<min:\n",
    "        min=i\n",
    "print(l)\n",
    "print(f\"the minimum value from the list is {min}\")\n",
    "\n",
    "    "
   ]
  },
  {
   "cell_type": "code",
   "execution_count": null,
   "id": "2e52a3c5-83c7-4c23-8ad9-38af745674ca",
   "metadata": {},
   "outputs": [],
   "source": [
    "#q11) str1='can canner can not can you canner can be can you can not'\n",
    "#      list=['can-6','canner-2','not-2','you-2','be-1']\n",
    "str1='can canner can not can you canner can be can you can not'\n",
    "l=str1.split( )\n",
    "l1=[]\n",
    "l2=[]\n",
    "for i in l:\n",
    "    if i not in l2:\n",
    "        print(i,l.count(i))\n",
    "        l2.append(i)\n",
    "        l1.append(f\"{i}-{l.count(i)}\")\n",
    "print(l1)"
   ]
  },
  {
   "cell_type": "code",
   "execution_count": 9,
   "id": "3eaa943b-7419-429c-9d2a-c78461cbfd9f",
   "metadata": {},
   "outputs": [
    {
     "name": "stdout",
     "output_type": "stream",
     "text": [
      "who is pm of india modi\n"
     ]
    },
    {
     "name": "stdout",
     "output_type": "stream",
     "text": [
      "answer: modi\n"
     ]
    },
    {
     "name": "stdout",
     "output_type": "stream",
     "text": [
      "who is ICT captain rohit\n"
     ]
    },
    {
     "name": "stdout",
     "output_type": "stream",
     "text": [
      "answer: rohit\n"
     ]
    },
    {
     "name": "stdout",
     "output_type": "stream",
     "text": [
      "capital of Inida mumbai\n"
     ]
    },
    {
     "name": "stdout",
     "output_type": "stream",
     "text": [
      "the count of correct answers is 2\n"
     ]
    }
   ],
   "source": [
    "# q12) qns= ['who is pm of india','who is ICT captain',\n",
    "#             'what is the capital of india']\n",
    "#      ans=['modi','rohit','delhi']\n",
    "#     step-1: iterate through each qn\n",
    "#     step-2: user will enter the answer\n",
    "#           check-1: the user given 'MODI' correct answer\n",
    "#           check-2: qn index and ans index should be\n",
    "#    step-3: count_marks=0 at the top\n",
    "#    step-4:  for every correct answer 1 marks\n",
    "#    step-5: how many correct answers and how many marks\n",
    "\n",
    "\n",
    "qns= ['who is pm of india','who is ICT captain','capital of Inida']\n",
    "ans=['modi','rohit','delhi']\n",
    "qus=len(qns)\n",
    "count=0\n",
    "for i in range(qus):\n",
    "    answr=input(qns[i])\n",
    "    if answr.lower()==ans[i].lower():\n",
    "        print(f\"answer: {answr}\")\n",
    "        count=count+1\n",
    "\n",
    "print(f\"the count of correct answers is {count}\")"
   ]
  },
  {
   "cell_type": "code",
   "execution_count": 3,
   "id": "a598c06f-50bc-47ef-9020-e2c5a0f58da0",
   "metadata": {},
   "outputs": [
    {
     "name": "stdout",
     "output_type": "stream",
     "text": [
      "['Hyd', 'Chennai', 'Mumbai', 'Pune']\n"
     ]
    }
   ],
   "source": [
    "  l1=['hyd','chennai','mumbai','pune']\n",
    "#     ans=['Hyd','Chennai','Mumabi','Pune']\n",
    "ans=[]\n",
    "for i in l1:\n",
    "    ans.append(i.capitalize())\n",
    "\n",
    "print(ans)"
   ]
  },
  {
   "cell_type": "code",
   "execution_count": 11,
   "id": "d7a9ff3c-7bc1-4810-836e-b8820237bb1b",
   "metadata": {},
   "outputs": [
    {
     "data": {
      "text/plain": [
       "['HYD', 'CHENNAI', 'MUMBAI', 'PUNE']"
      ]
     },
     "execution_count": 11,
     "metadata": {},
     "output_type": "execute_result"
    }
   ],
   "source": [
    "ans=[]\n",
    "for i in range(len(l1)):\n",
    "    ans.append(l1[i].upper())\n",
    "\n",
    "ans"
   ]
  },
  {
   "cell_type": "code",
   "execution_count": 13,
   "id": "ea1ae405-3863-4d15-99df-bfa23562868f",
   "metadata": {},
   "outputs": [
    {
     "data": {
      "text/plain": [
       "['chen#ai', 'mu#bai']"
      ]
     },
     "execution_count": 13,
     "metadata": {},
     "output_type": "execute_result"
    }
   ],
   "source": [
    "l1=['hyd','chen#ai','mu#bai','pune']\n",
    "ans=[]\n",
    "for i in l1:\n",
    "    if '#' in i:\n",
    "        \n",
    "        ans.append(i)\n",
    "\n",
    "ans"
   ]
  },
  {
   "cell_type": "code",
   "execution_count": 15,
   "id": "9bdedc7f-65c6-4104-8a1b-a8cb3177cb5b",
   "metadata": {},
   "outputs": [
    {
     "data": {
      "text/plain": [
       "['chen#ai', 'mu#bai']"
      ]
     },
     "execution_count": 15,
     "metadata": {},
     "output_type": "execute_result"
    }
   ],
   "source": [
    "ans=[]\n",
    "for i in range(len(l1)):\n",
    "    if '#' in l1[i]:\n",
    "        ans.append(l1[i])\n",
    "\n",
    "ans"
   ]
  },
  {
   "cell_type": "code",
   "execution_count": 17,
   "id": "e8d0010b-1692-437c-a59c-ca06c6c5000b",
   "metadata": {},
   "outputs": [
    {
     "data": {
      "text/plain": [
       "['hyd', 'pune']"
      ]
     },
     "execution_count": 17,
     "metadata": {},
     "output_type": "execute_result"
    }
   ],
   "source": [
    "ans=[]\n",
    "for i in l1:\n",
    "    if '#' not in i:\n",
    "        ans.append(i)\n",
    "\n",
    "ans"
   ]
  },
  {
   "cell_type": "code",
   "execution_count": 21,
   "id": "13cf1276-61a3-4ee6-afcb-3cc8c75f090e",
   "metadata": {},
   "outputs": [
    {
     "data": {
      "text/plain": [
       "['hyd', 'pune']"
      ]
     },
     "execution_count": 21,
     "metadata": {},
     "output_type": "execute_result"
    }
   ],
   "source": [
    "ans=[]\n",
    "for i in range(len(l1)):\n",
    "    if '#' not in l1[i]:\n",
    "        ans.append(l1[i])\n",
    "\n",
    "ans"
   ]
  },
  {
   "cell_type": "code",
   "execution_count": null,
   "id": "77aebef5-c064-4354-b33f-0146d439c584",
   "metadata": {},
   "outputs": [],
   "source": []
  }
 ],
 "metadata": {
  "kernelspec": {
   "display_name": "Python 3 (ipykernel)",
   "language": "python",
   "name": "python3"
  },
  "language_info": {
   "codemirror_mode": {
    "name": "ipython",
    "version": 3
   },
   "file_extension": ".py",
   "mimetype": "text/x-python",
   "name": "python",
   "nbconvert_exporter": "python",
   "pygments_lexer": "ipython3",
   "version": "3.12.4"
  }
 },
 "nbformat": 4,
 "nbformat_minor": 5
}
